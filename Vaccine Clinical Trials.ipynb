{
 "cells": [
  {
   "cell_type": "code",
   "execution_count": 105,
   "metadata": {},
   "outputs": [],
   "source": [
    "import requests\n",
    "import matplotlib.pyplot as plt\n",
    "import pandas as pd\n",
    "import numpy as np\n",
    "import seaborn as sns\n",
    "import matplotlib.ticker as ticker\n",
    "# sns.set(rc={'figure.figsize':(15, 8)})\n",
    "plt.rcParams[\"figure.figsize\"] = (15,8)"
   ]
  },
  {
   "cell_type": "code",
   "execution_count": 106,
   "metadata": {},
   "outputs": [],
   "source": [
    "df_pfzier = pd.DataFrame(list(zip([162, 21564], [8, 21712])),\n",
    "           columns =['Controled', 'Experimental'])\n",
    "df_moderna  = pd.DataFrame(list(zip([185, 15025], [11, 15199])),\n",
    "           columns =['Controled', 'Experimental'])\n",
    "df=df_pfzier"
   ]
  },
  {
   "cell_type": "code",
   "execution_count": null,
   "metadata": {},
   "outputs": [],
   "source": []
  },
  {
   "cell_type": "code",
   "execution_count": 107,
   "metadata": {},
   "outputs": [
    {
     "data": {
      "text/plain": [
       "(21726, 21720)"
      ]
     },
     "execution_count": 107,
     "metadata": {},
     "output_type": "execute_result"
    }
   ],
   "source": [
    "df.Controled.sum(), df.Experimental.sum()"
   ]
  },
  {
   "cell_type": "code",
   "execution_count": 108,
   "metadata": {},
   "outputs": [],
   "source": [
    "a, b = df.Experimental[0], df.Experimental[1]\n",
    "c, d = df.Controled[0], df.Controled[1]\n",
    "CER = df.Controled[0]/df.Controled.sum()\n",
    "EER = df.Experimental[0]/df.Experimental.sum()\n",
    "ARR = CER-EER\n",
    "RR = (a/(a+b))/(c/(c+d))#EER/CER\n",
    "RRR = 1-RR\n",
    "NNV = 1/ARR"
   ]
  },
  {
   "cell_type": "code",
   "execution_count": 109,
   "metadata": {},
   "outputs": [],
   "source": [
    "SE1 = np.sqrt((1/a) + (1/c)-(1/(a+b))-(1/(c+d)))"
   ]
  },
  {
   "cell_type": "code",
   "execution_count": 110,
   "metadata": {},
   "outputs": [],
   "source": [
    "RRerr = 1.96*SE1"
   ]
  },
  {
   "cell_type": "code",
   "execution_count": 111,
   "metadata": {},
   "outputs": [
    {
     "data": {
      "text/plain": [
       "(0.13319719061205945, 0.5506336715075425)"
      ]
     },
     "execution_count": 111,
     "metadata": {},
     "output_type": "execute_result"
    }
   ],
   "source": [
    "#Risk ratio 95% confidence interval (CI)\n",
    "CI_upper =  np.exp(np.log10(RR)+RRerr)\n",
    "CI_lower =  np.exp(np.log10(RR)-RRerr)\n",
    "CI_lower, CI_upper"
   ]
  },
  {
   "cell_type": "code",
   "execution_count": 112,
   "metadata": {},
   "outputs": [],
   "source": [
    "SE2 = np.sqrt((EER*(1-EER)/(a+b)) + (CER*(1-CER)/(c+d)))"
   ]
  },
  {
   "cell_type": "code",
   "execution_count": 113,
   "metadata": {},
   "outputs": [
    {
     "data": {
      "text/plain": [
       "(0.591610790425563, 0.8260251301787692)"
      ]
     },
     "execution_count": 113,
     "metadata": {},
     "output_type": "execute_result"
    }
   ],
   "source": [
    "#Absolute risk reduction 95% confidence interval (CI upper, lower)\n",
    "ARRerr = 1.96*SE2\n",
    "ARR_upper = ARR + ARRerr\n",
    "ARR_lower = ARR - ARRerr\n",
    "ARR_lower*100, ARR_upper*100"
   ]
  },
  {
   "cell_type": "markdown",
   "metadata": {},
   "source": [
    "Dividing the EER by the CER equals 1 if the rates do not differ, in which case the RR has the null value 1. RRs below 1 indicate a protective effect and a decreased risk (EER < CER), and RRs above 1 indicate an increased risk (EER > CER)."
   ]
  },
  {
   "cell_type": "code",
   "execution_count": 114,
   "metadata": {},
   "outputs": [
    {
     "name": "stdout",
     "output_type": "stream",
     "text": [
      "Controled event rate (CER) is 0.7457 %\n",
      "Experimental event rate (EER) is 0.0368 %\n"
     ]
    }
   ],
   "source": [
    "print('Controled event rate (CER) is {:.4f} %'.format(CER*100))\n",
    "print('Experimental event rate (EER) is {:.4f} %'.format(EER*100))"
   ]
  },
  {
   "cell_type": "code",
   "execution_count": 115,
   "metadata": {},
   "outputs": [
    {
     "name": "stdout",
     "output_type": "stream",
     "text": [
      "The relative rate (RR) is 0.0494\n",
      "Number needed to vaccinate (NNV) is 141.08\n",
      "The absolute risk reduction (ARR) is 0.7 %\n",
      "The relative risk reduction (RRR) or vaccine efficacy (VE) is 95.1 %\n"
     ]
    }
   ],
   "source": [
    "print('The relative rate (RR) is {:.4f}'.format(RR))\n",
    "print('Number needed to vaccinate (NNV) is {:.2f}'.format(NNV))\n",
    "print('The absolute risk reduction (ARR) is {:.1f} %'.format(ARR*100))\n",
    "print('The relative risk reduction (RRR) or vaccine efficacy (VE) is {:.1f} %'.format(RRR*100))"
   ]
  },
  {
   "cell_type": "markdown",
   "metadata": {},
   "source": [
    "Absolute risk is the size of your own risk. Absolute risk reduction is the number of percentage points your own risk goes down if you do vaccination. ARR is the baseline risk. The size of your absolute risk reduction depends on what your risk is to begin with. RRR is an estimate of the percentage of baseline risk that is removed as a result of the vaccination. The problem with using RRR is that we cannot assess the actual effect size if the event rate in the control group is not known. A particular RRR may thus imply very different ARRs, depending on the baseline risk. "
   ]
  },
  {
   "cell_type": "markdown",
   "metadata": {},
   "source": [
    "Number needed to vaccinate (NNT) is the number of people need to be vaccinated in order for one person to receive the the benefit. "
   ]
  },
  {
   "cell_type": "code",
   "execution_count": null,
   "metadata": {},
   "outputs": [],
   "source": []
  },
  {
   "cell_type": "markdown",
   "metadata": {},
   "source": [
    "### References\n",
    "\n",
    "https://doi.org/10.1056/nejmoa2034577\n",
    "\n",
    "https://doi.org/10.1056/NEJMoa2035389\n",
    "\n",
    "https://www.ncbi.nlm.nih.gov/pmc/articles/PMC7996517/\n",
    "\n",
    "https://youtu.be/eHxaDQNyfV4"
   ]
  },
  {
   "cell_type": "code",
   "execution_count": null,
   "metadata": {},
   "outputs": [],
   "source": []
  }
 ],
 "metadata": {
  "kernelspec": {
   "display_name": "Python 3",
   "language": "python",
   "name": "python3"
  },
  "language_info": {
   "codemirror_mode": {
    "name": "ipython",
    "version": 3
   },
   "file_extension": ".py",
   "mimetype": "text/x-python",
   "name": "python",
   "nbconvert_exporter": "python",
   "pygments_lexer": "ipython3",
   "version": "3.8.5"
  }
 },
 "nbformat": 4,
 "nbformat_minor": 4
}
